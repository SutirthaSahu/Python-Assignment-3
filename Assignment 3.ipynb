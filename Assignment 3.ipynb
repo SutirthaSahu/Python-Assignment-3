{
 "cells": [
  {
   "cell_type": "code",
   "execution_count": 9,
   "metadata": {},
   "outputs": [],
   "source": [
    "from functools import reduce"
   ]
  },
  {
   "cell_type": "code",
   "execution_count": 12,
   "metadata": {},
   "outputs": [],
   "source": [
    "def myReduce(f, iterable, initializer=None):\n",
    "    it = iter(iterable)\n",
    "    \n",
    "    if initializer is None:    #if user didn't pass intializer\n",
    "        try:\n",
    "            initializer = next(it)   #initialializer will be first element of list\n",
    "        except StopIteration:\n",
    "            raise TypeError('no initial value')\n",
    "    value = initializer  \n",
    "    \n",
    "    for x in it:\n",
    "        value = f(value, x) \n",
    "    return value\n",
    "    \n"
   ]
  },
  {
   "cell_type": "code",
   "execution_count": 13,
   "metadata": {},
   "outputs": [
    {
     "name": "stdout",
     "output_type": "stream",
     "text": [
      "original reduce function: 55\n",
      "my_reduce function : 55\n"
     ]
    }
   ],
   "source": [
    "n=[1,2,3,4,5,6,7,8,9,10]\n",
    "\n",
    "print(\"original reduce function:\",reduce(lambda x,y:x+y , n ))   #python built in reduce function\n",
    "print(\"my_reduce function :\",myReduce(lambda x,y:x+y , n ))      #my_reduce function"
   ]
  },
  {
   "cell_type": "code",
   "execution_count": 14,
   "metadata": {},
   "outputs": [
    {
     "name": "stdout",
     "output_type": "stream",
     "text": [
      "original reduce function: 65\n",
      "my_reduce function : 65\n"
     ]
    }
   ],
   "source": [
    "print(\"original reduce function:\",reduce(lambda x,y:x+y , n ,10 ))   #python built in reduce function\n",
    "print(\"my_reduce function :\",myReduce(lambda x,y:x+y , n , 10 ))     #my_reduce function"
   ]
  },
  {
   "cell_type": "code",
   "execution_count": 16,
   "metadata": {},
   "outputs": [],
   "source": [
    "def myFilter(f,iterable) :\n",
    "    it = iter(iterable)\n",
    "    lst = []\n",
    "    for x in it:\n",
    "        if(f(x)):\n",
    "            lst.append(x)\n",
    "    return lst"
   ]
  },
  {
   "cell_type": "code",
   "execution_count": 17,
   "metadata": {},
   "outputs": [
    {
     "name": "stdout",
     "output_type": "stream",
     "text": [
      "[2, 4, 6, 8, 10]\n",
      "[1, 3, 5, 7, 9]\n"
     ]
    }
   ],
   "source": [
    "print(myFilter(lambda x: x%2 == 0 , n ))\n",
    "print(myFilter(lambda x: x%2 != 0 , n ))"
   ]
  },
  {
   "cell_type": "code",
   "execution_count": 19,
   "metadata": {},
   "outputs": [
    {
     "data": {
      "text/plain": [
       "['x', 'xx', 'xxx', 'xxxx', 'y', 'yy', 'yyy', 'yyyy', 'z', 'zz', 'zzz', 'zzzz']"
      ]
     },
     "execution_count": 19,
     "metadata": {},
     "output_type": "execute_result"
    }
   ],
   "source": [
    "list = ['x','y','z']\n",
    "\n",
    "iterate1 = [i * n for i in list for n in range(1,5)]\n",
    "iterate1\n"
   ]
  },
  {
   "cell_type": "code",
   "execution_count": 20,
   "metadata": {},
   "outputs": [
    {
     "data": {
      "text/plain": [
       "['x', 'y', 'z', 'xx', 'yy', 'zz', 'xxx', 'yyy', 'zzz', 'xxxx', 'yyyy', 'zzzz']"
      ]
     },
     "execution_count": 20,
     "metadata": {},
     "output_type": "execute_result"
    }
   ],
   "source": [
    "iterate2 = [i * n for n in range(1,5) for i in list]\n",
    "iterate2"
   ]
  },
  {
   "cell_type": "code",
   "execution_count": 22,
   "metadata": {},
   "outputs": [
    {
     "data": {
      "text/plain": [
       "[2, 3, 4, 3, 4, 5, 4, 5, 6]"
      ]
     },
     "execution_count": 22,
     "metadata": {},
     "output_type": "execute_result"
    }
   ],
   "source": [
    "list = [2,3,4]\n",
    "\n",
    "iterate3 = [(i+n) for i in list for n in range(0,3)]\n",
    "iterate3"
   ]
  },
  {
   "cell_type": "code",
   "execution_count": 24,
   "metadata": {},
   "outputs": [
    {
     "data": {
      "text/plain": [
       "[[2, 3, 4, 5], [3, 4, 5, 6], [4, 5, 6, 7], [5, 6, 7, 8]]"
      ]
     },
     "execution_count": 24,
     "metadata": {},
     "output_type": "execute_result"
    }
   ],
   "source": [
    "list = [2,3,4,5]\n",
    "\n",
    "iterate4 = [[(i+n) for i in list] for n in range(0,4)]\n",
    "iterate4"
   ]
  },
  {
   "cell_type": "code",
   "execution_count": 27,
   "metadata": {},
   "outputs": [
    {
     "data": {
      "text/plain": [
       "[(1, 1), (2, 1), (3, 1), (1, 2), (2, 2), (3, 2), (1, 3), (2, 3), (3, 3)]"
      ]
     },
     "execution_count": 27,
     "metadata": {},
     "output_type": "execute_result"
    }
   ],
   "source": [
    "list = [1,2,3]\n",
    "\n",
    "iterate5 = [(b,a) for a in list for b in list]\n",
    "iterate5"
   ]
  }
 ],
 "metadata": {
  "kernelspec": {
   "display_name": "Python 3",
   "language": "python",
   "name": "python3"
  },
  "language_info": {
   "codemirror_mode": {
    "name": "ipython",
    "version": 3
   },
   "file_extension": ".py",
   "mimetype": "text/x-python",
   "name": "python",
   "nbconvert_exporter": "python",
   "pygments_lexer": "ipython3",
   "version": "3.7.1"
  }
 },
 "nbformat": 4,
 "nbformat_minor": 2
}
